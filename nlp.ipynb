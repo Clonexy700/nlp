{
 "cells": [
  {
   "cell_type": "code",
   "execution_count": 2,
   "metadata": {},
   "outputs": [
    {
     "data": {
      "text/plain": [
       "[Parse(word='перфорация', tag=OpencorporaTag('NOUN,inan,femn sing,nomn'), normal_form='перфорация', score=1.0, methods_stack=((DictionaryAnalyzer(), 'перфорация', 41, 0),))]"
      ]
     },
     "execution_count": 2,
     "metadata": {},
     "output_type": "execute_result"
    }
   ],
   "source": [
    "import pymorphy2\n",
    "import pymystem3\n",
    "import os\n",
    "import sys\n",
    "import codecs\n",
    "\n",
    "m1 = pymorphy2.MorphAnalyzer()\n",
    "m2 = pymystem3.Mystem()\n",
    "\n",
    "m1.parse('перфорация')"
   ]
  },
  {
   "cell_type": "code",
   "execution_count": 3,
   "metadata": {},
   "outputs": [
    {
     "data": {
      "text/plain": [
       "[{'analysis': [{'lex': 'перфорация', 'wt': 1, 'gr': 'S,жен,неод=им,ед'}],\n",
       "  'text': 'перфорация'},\n",
       " {'text': '\\n'}]"
      ]
     },
     "execution_count": 3,
     "metadata": {},
     "output_type": "execute_result"
    }
   ],
   "source": [
    "m2.analyze('перфорация')"
   ]
  },
  {
   "cell_type": "code",
   "execution_count": 4,
   "metadata": {},
   "outputs": [
    {
     "data": {
      "text/plain": [
       "'Я люблю вкусно покушать и я ел утром манную кашу.'"
      ]
     },
     "execution_count": 4,
     "metadata": {},
     "output_type": "execute_result"
    }
   ],
   "source": [
    "from pyaspeller import YandexSpeller\n",
    "speller = YandexSpeller()\n",
    "text = 'Я люблю фкусна пакушать и йя ел утром маную кашу.'\n",
    "changes = {change['word']:change['s'][0] for change in speller.spell(text)}\n",
    "for word, suggestion in changes.items():\n",
    "    text = text.replace(word, suggestion)\n",
    "text"
   ]
  },
  {
   "cell_type": "code",
   "execution_count": 8,
   "metadata": {},
   "outputs": [
    {
     "name": "stdout",
     "output_type": "stream",
     "text": [
      "1\n",
      "1\n",
      "3\n",
      "0.25\n",
      "0.75\n",
      "2\n"
     ]
    }
   ],
   "source": [
    "\n",
    "import textdistance\n",
    "\n",
    "print(textdistance.hamming('test', 'text'))\n",
    "print(textdistance.hamming.distance('test', 'text'))\n",
    "print(textdistance.hamming.similarity('test', 'text'))\n",
    "print(textdistance.hamming.normalized_distance('test', 'text'))\n",
    "print(textdistance.hamming.normalized_similarity('test', 'text'))\n",
    "print(textdistance.Hamming(qval=2).distance('test', 'text'))\n"
   ]
  },
  {
   "cell_type": "code",
   "execution_count": 6,
   "metadata": {},
   "outputs": [],
   "source": [
    "import nltk\n",
    "import re\n",
    "import pymorphy2\n",
    "from nltk.corpus import stopwords"
   ]
  },
  {
   "cell_type": "code",
   "execution_count": null,
   "metadata": {},
   "outputs": [],
   "source": []
  }
 ],
 "metadata": {
  "kernelspec": {
   "display_name": "Python 3",
   "language": "python",
   "name": "python3"
  },
  "language_info": {
   "codemirror_mode": {
    "name": "ipython",
    "version": 3
   },
   "file_extension": ".py",
   "mimetype": "text/x-python",
   "name": "python",
   "nbconvert_exporter": "python",
   "pygments_lexer": "ipython3",
   "version": "3.7.4"
  }
 },
 "nbformat": 4,
 "nbformat_minor": 2
}
